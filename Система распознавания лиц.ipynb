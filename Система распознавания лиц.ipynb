{
 "cells": [
  {
   "cell_type": "markdown",
   "metadata": {},
   "source": [
    "Импорт модулей"
   ]
  },
  {
   "cell_type": "code",
   "execution_count": 1,
   "metadata": {},
   "outputs": [
    {
     "name": "stderr",
     "output_type": "stream",
     "text": [
      "Using TensorFlow backend.\n"
     ]
    },
    {
     "name": "stdout",
     "output_type": "stream",
     "text": [
      "4.2.0\n"
     ]
    }
   ],
   "source": [
    "import cv2 as cv\n",
    "from mtcnn import MTCNN\n",
    "import tensorflow as tf\n",
    "import face_recognition\n",
    "\n",
    "print(cv.__version__)"
   ]
  },
  {
   "cell_type": "markdown",
   "metadata": {},
   "source": [
    "Описание констант"
   ]
  },
  {
   "cell_type": "code",
   "execution_count": 2,
   "metadata": {},
   "outputs": [],
   "source": [
    "RED = (0, 0, 255)"
   ]
  },
  {
   "cell_type": "markdown",
   "metadata": {},
   "source": [
    "Отключение отладочной информации"
   ]
  },
  {
   "cell_type": "code",
   "execution_count": 3,
   "metadata": {},
   "outputs": [],
   "source": [
    "tf.get_logger().setLevel('ERROR')"
   ]
  },
  {
   "cell_type": "markdown",
   "metadata": {},
   "source": [
    "# Система распознавания лиц"
   ]
  },
  {
   "cell_type": "markdown",
   "metadata": {},
   "source": [
    "Открывание камеры для захвата видео"
   ]
  },
  {
   "cell_type": "code",
   "execution_count": 4,
   "metadata": {},
   "outputs": [],
   "source": [
    "cap = cv.VideoCapture(0)\n",
    "\n",
    "if not cap.isOpened():\n",
    "    print('Не удаётся открыть камеру')"
   ]
  },
  {
   "cell_type": "markdown",
   "metadata": {},
   "source": [
    "Создание экземпляра свёрточной нейронной сети для обнаружения лиц"
   ]
  },
  {
   "cell_type": "code",
   "execution_count": 5,
   "metadata": {},
   "outputs": [],
   "source": [
    "detector = MTCNN()"
   ]
  },
  {
   "cell_type": "markdown",
   "metadata": {},
   "source": [
    "Подготовка набора данных лиц"
   ]
  },
  {
   "cell_type": "code",
   "execution_count": 6,
   "metadata": {},
   "outputs": [
    {
     "name": "stdout",
     "output_type": "stream",
     "text": [
      "[{'encoding': array([-0.06119749,  0.06527939,  0.01028452,  0.00078343, -0.08590816,\n",
      "       -0.00620787, -0.02763153, -0.03398338,  0.07434861, -0.1012755 ,\n",
      "        0.29058209, -0.04339862, -0.26764905, -0.13614407,  0.0676738 ,\n",
      "        0.10001744, -0.10210194, -0.02750669, -0.09622415,  0.05079712,\n",
      "        0.11064393,  0.05344667,  0.07290477,  0.09125496, -0.16081746,\n",
      "       -0.3938967 , -0.07471377, -0.07663848,  0.00697561, -0.14085314,\n",
      "       -0.1184682 ,  0.09515718, -0.10877727, -0.02771313, -0.01339164,\n",
      "        0.07218896, -0.08048238, -0.05791171,  0.20593958,  0.03780343,\n",
      "       -0.21111108, -0.00727309, -0.07932518,  0.28276291,  0.2377969 ,\n",
      "       -0.00618066,  0.0333436 , -0.01753489,  0.06977507, -0.3201797 ,\n",
      "        0.0493774 ,  0.14129178,  0.05567065, -0.00493846,  0.06752561,\n",
      "       -0.11232223, -0.01667364,  0.11067906, -0.26405954,  0.0277695 ,\n",
      "       -0.01067162, -0.14994444, -0.01129279, -0.05861608,  0.15194947,\n",
      "        0.11558464, -0.1182877 , -0.16035683,  0.08638591, -0.23296095,\n",
      "       -0.03093232,  0.10313715, -0.13601281, -0.26514146, -0.36404717,\n",
      "        0.0561367 ,  0.3121236 ,  0.20545131, -0.18576957,  0.03835374,\n",
      "       -0.04200953, -0.04365312,  0.13414155,  0.06409696, -0.01836649,\n",
      "       -0.02328728, -0.15939364,  0.05833133,  0.14860651, -0.07556753,\n",
      "       -0.05888833,  0.30454382,  0.00348009,  0.02590539,  0.09645677,\n",
      "        0.03075504, -0.06063964, -0.02035774, -0.08702973,  0.06932949,\n",
      "        0.06374569, -0.1673789 ,  0.01191694,  0.11080687, -0.14580624,\n",
      "        0.12298483, -0.06928974, -0.01155213,  0.04399297, -0.08489392,\n",
      "       -0.23198128, -0.07439537,  0.13894711, -0.30223033,  0.11856905,\n",
      "        0.1829973 ,  0.06744314,  0.13730082,  0.09933446,  0.04500473,\n",
      "       -0.02190563, -0.02072328, -0.18711399, -0.02218821,  0.11129168,\n",
      "        0.01266735,  0.04195118, -0.02283824]), 'label': 'mikhailov'}]\n"
     ]
    }
   ],
   "source": [
    "known_faces = []\n",
    "\n",
    "labels = []\n",
    "labels.append('mikhailov')\n",
    "\n",
    "for label in labels:\n",
    "    image = cv.imread('known_faces/{}.jpg'.format(label))\n",
    "    if image is None:\n",
    "        break\n",
    "    \n",
    "    faces = detector.detect_faces(cv.cvtColor(image, cv.COLOR_BGR2RGB))\n",
    "    if not len(faces) == 1:\n",
    "        break\n",
    "    \n",
    "    x1, y1 = faces[0]['box'][0], faces[0]['box'][1]\n",
    "    x2, y2 = faces[0]['box'][0] + faces[0]['box'][2], faces[0]['box'][1] + faces[0]['box'][3]\n",
    "    known_faces.append({'encoding': face_recognition.face_encodings(image[y1:y2, x1:x2])[0], 'label': label})\n",
    "\n",
    "print(known_faces)"
   ]
  },
  {
   "cell_type": "markdown",
   "metadata": {},
   "source": [
    "Отображение видео в окне"
   ]
  },
  {
   "cell_type": "code",
   "execution_count": 7,
   "metadata": {},
   "outputs": [],
   "source": [
    "while True:\n",
    "    ret, frame = cap.read()\n",
    "    if not ret:\n",
    "        print('Не удаётся получить кадр')\n",
    "        break\n",
    "    \n",
    "    faces = detector.detect_faces(cv.cvtColor(frame, cv.COLOR_BGR2RGB))\n",
    "    for face in faces:\n",
    "        x1, y1, x2, y2 = face['box'][0], face['box'][1], face['box'][0] + face['box'][2], face['box'][1] + face['box'][3]\n",
    "        cv.rectangle(frame, (x1, y1), (x2, y2), RED, 3)\n",
    "        \n",
    "        label = 'unknown'\n",
    "        try:\n",
    "            encoding = face_recognition.face_encodings(frame[y1:y2, x1:x2])[0]\n",
    "            \n",
    "            for known_face in known_faces:\n",
    "                if face_recognition.compare_faces([known_face['encoding']], encoding)[0] == True:\n",
    "                    label = known_face['label']\n",
    "        except:\n",
    "            pass\n",
    "        \n",
    "        cv.putText(frame, label, (x1, y1), cv.FONT_HERSHEY_SIMPLEX, 1, RED)\n",
    "    \n",
    "    cv.imshow('Facial recognition system', frame)\n",
    "    \n",
    "    if cv.waitKey(1) == ord('q'):\n",
    "        break\n",
    "\n",
    "cv.destroyAllWindows()"
   ]
  },
  {
   "cell_type": "markdown",
   "metadata": {},
   "source": [
    "Освобождение ресурсов"
   ]
  },
  {
   "cell_type": "code",
   "execution_count": 8,
   "metadata": {},
   "outputs": [],
   "source": [
    "cap.release()"
   ]
  }
 ],
 "metadata": {
  "kernelspec": {
   "display_name": "Python 3",
   "language": "python",
   "name": "python3"
  },
  "language_info": {
   "codemirror_mode": {
    "name": "ipython",
    "version": 3
   },
   "file_extension": ".py",
   "mimetype": "text/x-python",
   "name": "python",
   "nbconvert_exporter": "python",
   "pygments_lexer": "ipython3",
   "version": "3.7.7"
  }
 },
 "nbformat": 4,
 "nbformat_minor": 4
}
